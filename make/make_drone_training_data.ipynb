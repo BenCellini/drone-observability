{
 "cells": [
  {
   "cell_type": "code",
   "id": "initial_id",
   "metadata": {
    "ExecuteTime": {
     "end_time": "2025-02-07T10:45:08.785602Z",
     "start_time": "2025-02-07T10:45:08.357607Z"
    }
   },
   "source": [
    "%reset -f\n",
    "%load_ext autoreload\n",
    "%autoreload 2\n",
    "\n",
    "import sys\n",
    "import os\n",
    "import numpy as np\n",
    "import pandas as pd\n",
    "import matplotlib as mpl\n",
    "import matplotlib.pyplot as plt\n",
    "import time\n",
    "import figurefirst as fifi\n",
    "import figure_functions as ff\n",
    "\n",
    "from drone_model_body_level import DroneSimulator\n",
    "from pybounds import SlidingEmpiricalObservabilityMatrix, SlidingFisherObservability, ObservabilityMatrixImage, colorline\n",
    "\n",
    "pd.set_option('display.max_columns', None)\n",
    "plt.style.use('default')"
   ],
   "outputs": [
    {
     "name": "stdout",
     "output_type": "stream",
     "text": [
      "The autoreload extension is already loaded. To reload it, use:\n",
      "  %reload_ext autoreload\n"
     ]
    }
   ],
   "execution_count": 41
  },
  {
   "cell_type": "markdown",
   "id": "b99622149a13958a",
   "metadata": {},
   "source": [
    "# Set trajectories"
   ]
  },
  {
   "metadata": {
    "ExecuteTime": {
     "end_time": "2025-02-07T10:45:08.927605Z",
     "start_time": "2025-02-07T10:45:08.788606Z"
    }
   },
   "cell_type": "code",
   "source": [
    "fs = 10\n",
    "dt = 1 / fs\n",
    "T = 2.4"
   ],
   "id": "bc532c4fa10f8c3e",
   "outputs": [],
   "execution_count": 42
  },
  {
   "cell_type": "code",
   "id": "4baad93e9a519641",
   "metadata": {
    "collapsed": false,
    "jupyter": {
     "outputs_hidden": false
    },
    "ExecuteTime": {
     "end_time": "2025-02-07T10:45:09.053604Z",
     "start_time": "2025-02-07T10:45:08.931601Z"
    }
   },
   "source": [
    "# traj_range = {'w': (0.0, 2.0),\n",
    "#               'zeta': (-np.pi, np.pi),\n",
    "#               'z': (0.1, 10.0),\n",
    "#               'v_x': (0.05, 2.0),\n",
    "#               'v_y': (-0.2, 0.2),\n",
    "#               'v_x_dot_ratio': (0.05, 2.0),\n",
    "#               'v_y_dot': (-0.5, 0.5),\n",
    "#               'psi': (-np.pi, np.pi),\n",
    "#               'psi_dot': (1.5*(-np.pi)/T, 1.5*(np.pi)/T),\n",
    "#               'psi_ddot': ((-4)/T, (4)/T)\n",
    "#               }"
   ],
   "outputs": [],
   "execution_count": 43
  },
  {
   "metadata": {
    "ExecuteTime": {
     "end_time": "2025-02-07T10:45:09.195608Z",
     "start_time": "2025-02-07T10:45:09.056604Z"
    }
   },
   "cell_type": "code",
   "source": [
    "traj_range = {'w': (0.0, 2.0),\n",
    "              'zeta': (-np.pi, np.pi),\n",
    "              'z': (0.6, 0.6),\n",
    "              'v_x': (0.05, 1.0),\n",
    "              'v_y': (-0.2, 0.2),\n",
    "              'v_x_dot_ratio': (0.05, 2.0),\n",
    "              'v_y_dot': (-0.5, 0.5),\n",
    "              'psi': (-np.pi, np.pi),\n",
    "              'psi_dot': (0.1*(-5*np.pi/6)/T, 0.1*(5*np.pi/6)/T),\n",
    "              'psi_ddot': ((-5)/T, (5)/T)\n",
    "              }"
   ],
   "id": "aee569d9cea878ce",
   "outputs": [],
   "execution_count": 44
  },
  {
   "cell_type": "code",
   "id": "cdf7263f1f5f57ca",
   "metadata": {
    "collapsed": false,
    "jupyter": {
     "outputs_hidden": false
    },
    "ExecuteTime": {
     "end_time": "2025-02-07T10:45:09.338602Z",
     "start_time": "2025-02-07T10:45:09.201608Z"
    }
   },
   "source": [
    "traj_range"
   ],
   "outputs": [
    {
     "data": {
      "text/plain": [
       "{'w': (0.0, 2.0),\n",
       " 'zeta': (-3.141592653589793, 3.141592653589793),\n",
       " 'z': (0.6, 0.6),\n",
       " 'v_x': (0.05, 1.0),\n",
       " 'v_y': (-0.2, 0.2),\n",
       " 'v_x_dot_ratio': (0.05, 2.0),\n",
       " 'v_y_dot': (-0.5, 0.5),\n",
       " 'psi': (-3.141592653589793, 3.141592653589793),\n",
       " 'psi_dot': (-0.10908307824964561, 0.10908307824964561),\n",
       " 'psi_ddot': (-2.0833333333333335, 2.0833333333333335)}"
      ]
     },
     "execution_count": 45,
     "metadata": {},
     "output_type": "execute_result"
    }
   ],
   "execution_count": 45
  },
  {
   "cell_type": "markdown",
   "id": "a60933e9e9ac4090",
   "metadata": {},
   "source": [
    "# Create data frame"
   ]
  },
  {
   "cell_type": "code",
   "id": "d7b258a02766784f",
   "metadata": {
    "collapsed": false,
    "jupyter": {
     "outputs_hidden": false
    },
    "ExecuteTime": {
     "end_time": "2025-02-07T10:45:09.482604Z",
     "start_time": "2025-02-07T10:45:09.342605Z"
    }
   },
   "source": "n_traj = 10000",
   "outputs": [],
   "execution_count": 46
  },
  {
   "cell_type": "code",
   "id": "1e0789af8b604cf7",
   "metadata": {
    "collapsed": false,
    "jupyter": {
     "outputs_hidden": false
    },
    "ExecuteTime": {
     "end_time": "2025-02-07T10:45:09.642603Z",
     "start_time": "2025-02-07T10:45:09.487612Z"
    }
   },
   "source": [
    "traj_data = {}\n",
    "traj_data_names = traj_range.keys()\n",
    "traj_data_df = pd.DataFrame(np.nan * np.zeros((n_traj, len(traj_data_names))), columns=traj_data_names)\n",
    "\n",
    "np.random.seed(0)  # set seed\n",
    "for c in traj_data_df:\n",
    "    if isinstance(traj_range[c], set):\n",
    "        traj_data_df.loc[:, c] = np.random.randint(low=tuple(traj_range[c])[0],\n",
    "                                                   high=tuple(traj_range[c])[-1] + 1,\n",
    "                                                   size=n_traj)\n",
    "        traj_data_df[c] = traj_data_df[c].astype(int) \n",
    "    else:\n",
    "        traj_data_df.loc[:, c] = np.random.uniform(low=traj_range[c][0],\n",
    "                                                   high=traj_range[c][1],\n",
    "                                                   size=n_traj)\n",
    "    \n",
    "traj_data_df.insert(loc=5, column='v_x_dot', value=traj_data_df['v_x'] * (traj_data_df['v_x_dot_ratio'] - 1) / T)\n",
    "\n",
    "traj_data_df"
   ],
   "outputs": [
    {
     "data": {
      "text/plain": [
       "             w      zeta    z       v_x       v_y   v_x_dot  v_x_dot_ratio  \\\n",
       "0     1.097627  1.559914  0.6  0.770219 -0.052297 -0.112353       0.649908   \n",
       "1     1.430379 -2.009346  0.6  0.528153 -0.115470 -0.182452       0.170910   \n",
       "2     1.205527 -0.697288  0.6  0.218166 -0.009238  0.088914       1.978131   \n",
       "3     1.089766 -2.905344  0.6  0.840910 -0.167106  0.158451       1.452226   \n",
       "4     0.847310 -3.067528  0.6  0.540984 -0.104936  0.118850       1.527261   \n",
       "...        ...       ...  ...       ...       ...       ...            ...   \n",
       "9995  1.100894  1.559326  0.6  0.684964  0.018532  0.220425       1.772332   \n",
       "9996  0.794303 -1.267528  0.6  0.995166  0.077324 -0.086597       0.791158   \n",
       "9997  1.516859 -0.336428  0.6  0.608813 -0.106530 -0.157389       0.379558   \n",
       "9998  0.047575 -0.878850  0.6  0.453384  0.132370 -0.082239       0.564665   \n",
       "9999  1.627150  0.790969  0.6  0.906551  0.020527 -0.137012       0.637275   \n",
       "\n",
       "       v_y_dot       psi   psi_dot  psi_ddot  \n",
       "0     0.427955  0.832356 -0.106662 -1.286984  \n",
       "1     0.402937 -2.669645 -0.108697 -1.839385  \n",
       "2    -0.072383  1.395392 -0.075255 -0.263290  \n",
       "3     0.010806 -0.208211 -0.039977  0.917903  \n",
       "4     0.083200  1.518976  0.033127  1.351716  \n",
       "...        ...       ...       ...       ...  \n",
       "9995  0.399451 -2.271716 -0.046148  0.941338  \n",
       "9996  0.054135  2.168659 -0.033214  0.031335  \n",
       "9997  0.262907  1.785198  0.014019  1.292220  \n",
       "9998  0.409548  0.749300  0.022964  0.212634  \n",
       "9999 -0.320269 -2.151809  0.095002 -1.142684  \n",
       "\n",
       "[10000 rows x 11 columns]"
      ],
      "text/html": [
       "<div>\n",
       "<style scoped>\n",
       "    .dataframe tbody tr th:only-of-type {\n",
       "        vertical-align: middle;\n",
       "    }\n",
       "\n",
       "    .dataframe tbody tr th {\n",
       "        vertical-align: top;\n",
       "    }\n",
       "\n",
       "    .dataframe thead th {\n",
       "        text-align: right;\n",
       "    }\n",
       "</style>\n",
       "<table border=\"1\" class=\"dataframe\">\n",
       "  <thead>\n",
       "    <tr style=\"text-align: right;\">\n",
       "      <th></th>\n",
       "      <th>w</th>\n",
       "      <th>zeta</th>\n",
       "      <th>z</th>\n",
       "      <th>v_x</th>\n",
       "      <th>v_y</th>\n",
       "      <th>v_x_dot</th>\n",
       "      <th>v_x_dot_ratio</th>\n",
       "      <th>v_y_dot</th>\n",
       "      <th>psi</th>\n",
       "      <th>psi_dot</th>\n",
       "      <th>psi_ddot</th>\n",
       "    </tr>\n",
       "  </thead>\n",
       "  <tbody>\n",
       "    <tr>\n",
       "      <th>0</th>\n",
       "      <td>1.097627</td>\n",
       "      <td>1.559914</td>\n",
       "      <td>0.6</td>\n",
       "      <td>0.770219</td>\n",
       "      <td>-0.052297</td>\n",
       "      <td>-0.112353</td>\n",
       "      <td>0.649908</td>\n",
       "      <td>0.427955</td>\n",
       "      <td>0.832356</td>\n",
       "      <td>-0.106662</td>\n",
       "      <td>-1.286984</td>\n",
       "    </tr>\n",
       "    <tr>\n",
       "      <th>1</th>\n",
       "      <td>1.430379</td>\n",
       "      <td>-2.009346</td>\n",
       "      <td>0.6</td>\n",
       "      <td>0.528153</td>\n",
       "      <td>-0.115470</td>\n",
       "      <td>-0.182452</td>\n",
       "      <td>0.170910</td>\n",
       "      <td>0.402937</td>\n",
       "      <td>-2.669645</td>\n",
       "      <td>-0.108697</td>\n",
       "      <td>-1.839385</td>\n",
       "    </tr>\n",
       "    <tr>\n",
       "      <th>2</th>\n",
       "      <td>1.205527</td>\n",
       "      <td>-0.697288</td>\n",
       "      <td>0.6</td>\n",
       "      <td>0.218166</td>\n",
       "      <td>-0.009238</td>\n",
       "      <td>0.088914</td>\n",
       "      <td>1.978131</td>\n",
       "      <td>-0.072383</td>\n",
       "      <td>1.395392</td>\n",
       "      <td>-0.075255</td>\n",
       "      <td>-0.263290</td>\n",
       "    </tr>\n",
       "    <tr>\n",
       "      <th>3</th>\n",
       "      <td>1.089766</td>\n",
       "      <td>-2.905344</td>\n",
       "      <td>0.6</td>\n",
       "      <td>0.840910</td>\n",
       "      <td>-0.167106</td>\n",
       "      <td>0.158451</td>\n",
       "      <td>1.452226</td>\n",
       "      <td>0.010806</td>\n",
       "      <td>-0.208211</td>\n",
       "      <td>-0.039977</td>\n",
       "      <td>0.917903</td>\n",
       "    </tr>\n",
       "    <tr>\n",
       "      <th>4</th>\n",
       "      <td>0.847310</td>\n",
       "      <td>-3.067528</td>\n",
       "      <td>0.6</td>\n",
       "      <td>0.540984</td>\n",
       "      <td>-0.104936</td>\n",
       "      <td>0.118850</td>\n",
       "      <td>1.527261</td>\n",
       "      <td>0.083200</td>\n",
       "      <td>1.518976</td>\n",
       "      <td>0.033127</td>\n",
       "      <td>1.351716</td>\n",
       "    </tr>\n",
       "    <tr>\n",
       "      <th>...</th>\n",
       "      <td>...</td>\n",
       "      <td>...</td>\n",
       "      <td>...</td>\n",
       "      <td>...</td>\n",
       "      <td>...</td>\n",
       "      <td>...</td>\n",
       "      <td>...</td>\n",
       "      <td>...</td>\n",
       "      <td>...</td>\n",
       "      <td>...</td>\n",
       "      <td>...</td>\n",
       "    </tr>\n",
       "    <tr>\n",
       "      <th>9995</th>\n",
       "      <td>1.100894</td>\n",
       "      <td>1.559326</td>\n",
       "      <td>0.6</td>\n",
       "      <td>0.684964</td>\n",
       "      <td>0.018532</td>\n",
       "      <td>0.220425</td>\n",
       "      <td>1.772332</td>\n",
       "      <td>0.399451</td>\n",
       "      <td>-2.271716</td>\n",
       "      <td>-0.046148</td>\n",
       "      <td>0.941338</td>\n",
       "    </tr>\n",
       "    <tr>\n",
       "      <th>9996</th>\n",
       "      <td>0.794303</td>\n",
       "      <td>-1.267528</td>\n",
       "      <td>0.6</td>\n",
       "      <td>0.995166</td>\n",
       "      <td>0.077324</td>\n",
       "      <td>-0.086597</td>\n",
       "      <td>0.791158</td>\n",
       "      <td>0.054135</td>\n",
       "      <td>2.168659</td>\n",
       "      <td>-0.033214</td>\n",
       "      <td>0.031335</td>\n",
       "    </tr>\n",
       "    <tr>\n",
       "      <th>9997</th>\n",
       "      <td>1.516859</td>\n",
       "      <td>-0.336428</td>\n",
       "      <td>0.6</td>\n",
       "      <td>0.608813</td>\n",
       "      <td>-0.106530</td>\n",
       "      <td>-0.157389</td>\n",
       "      <td>0.379558</td>\n",
       "      <td>0.262907</td>\n",
       "      <td>1.785198</td>\n",
       "      <td>0.014019</td>\n",
       "      <td>1.292220</td>\n",
       "    </tr>\n",
       "    <tr>\n",
       "      <th>9998</th>\n",
       "      <td>0.047575</td>\n",
       "      <td>-0.878850</td>\n",
       "      <td>0.6</td>\n",
       "      <td>0.453384</td>\n",
       "      <td>0.132370</td>\n",
       "      <td>-0.082239</td>\n",
       "      <td>0.564665</td>\n",
       "      <td>0.409548</td>\n",
       "      <td>0.749300</td>\n",
       "      <td>0.022964</td>\n",
       "      <td>0.212634</td>\n",
       "    </tr>\n",
       "    <tr>\n",
       "      <th>9999</th>\n",
       "      <td>1.627150</td>\n",
       "      <td>0.790969</td>\n",
       "      <td>0.6</td>\n",
       "      <td>0.906551</td>\n",
       "      <td>0.020527</td>\n",
       "      <td>-0.137012</td>\n",
       "      <td>0.637275</td>\n",
       "      <td>-0.320269</td>\n",
       "      <td>-2.151809</td>\n",
       "      <td>0.095002</td>\n",
       "      <td>-1.142684</td>\n",
       "    </tr>\n",
       "  </tbody>\n",
       "</table>\n",
       "<p>10000 rows × 11 columns</p>\n",
       "</div>"
      ]
     },
     "execution_count": 47,
     "metadata": {},
     "output_type": "execute_result"
    }
   ],
   "execution_count": 47
  },
  {
   "cell_type": "markdown",
   "id": "d7d7443568a2db10",
   "metadata": {},
   "source": "# Simulate trajectories"
  },
  {
   "metadata": {
    "ExecuteTime": {
     "end_time": "2025-02-07T10:45:09.785604Z",
     "start_time": "2025-02-07T10:45:09.646606Z"
    }
   },
   "cell_type": "code",
   "source": [
    "# Set time\n",
    "tsim = np.arange(0, T + dt/2, step=dt)\n",
    "tsim.shape"
   ],
   "id": "3a8230620111839c",
   "outputs": [
    {
     "data": {
      "text/plain": [
       "(25,)"
      ]
     },
     "execution_count": 48,
     "metadata": {},
     "output_type": "execute_result"
    }
   ],
   "execution_count": 48
  },
  {
   "metadata": {
    "ExecuteTime": {
     "end_time": "2025-02-07T10:45:09.925602Z",
     "start_time": "2025-02-07T10:45:09.789608Z"
    }
   },
   "cell_type": "code",
   "source": [
    "# Set control parameters\n",
    "mpc_horizon = 10\n",
    "r_u = 1e-2"
   ],
   "id": "44a94a8c9ef12cef",
   "outputs": [],
   "execution_count": 49
  },
  {
   "metadata": {
    "ExecuteTime": {
     "end_time": "2025-02-07T10:45:10.053603Z",
     "start_time": "2025-02-07T10:45:09.929605Z"
    }
   },
   "cell_type": "code",
   "source": [
    "# Set sensors\n",
    "o_sensors = ['psi', 'gamma', 'beta']\n",
    "\n",
    "# Set states\n",
    "o_states = None\n",
    "\n",
    "# Set time-steps\n",
    "window_size = 5\n",
    "o_time_steps = np.arange(0, window_size, step=1)"
   ],
   "id": "9bc2a98ba57d4ab0",
   "outputs": [],
   "execution_count": 50
  },
  {
   "metadata": {
    "ExecuteTime": {
     "end_time": "2025-02-07T10:45:10.212607Z",
     "start_time": "2025-02-07T10:45:10.056606Z"
    }
   },
   "cell_type": "code",
   "source": [
    "observability_on = True\n",
    "cnorm = mpl.colors.LogNorm(10 ** -2, 10 ** 6)"
   ],
   "id": "43c8d42dad9a473",
   "outputs": [],
   "execution_count": 51
  },
  {
   "metadata": {
    "ExecuteTime": {
     "end_time": "2025-02-07T10:45:10.356607Z",
     "start_time": "2025-02-07T10:45:10.216620Z"
    }
   },
   "cell_type": "code",
   "source": "show_plot = False",
   "id": "6ebd30a27643a2b6",
   "outputs": [],
   "execution_count": 52
  },
  {
   "cell_type": "code",
   "id": "54c6d72197377fda",
   "metadata": {
    "collapsed": false,
    "jupyter": {
     "outputs_hidden": false,
     "is_executing": true
    },
    "ExecuteTime": {
     "start_time": "2025-02-07T10:45:10.361613Z"
    }
   },
   "source": [
    "st = time.time()\n",
    "traj_list = []\n",
    "for n in range(0, n_traj):\n",
    "    print(n, end=', ')\n",
    "    \n",
    "    # Get trajectory\n",
    "    traj = traj_data_df.iloc[[n], :]\n",
    "    \n",
    "    # Set velocities\n",
    "    v_x = traj['v_x'].values + traj['v_x_dot'].values*tsim\n",
    "    v_y = traj['v_y'].values + traj['v_y_dot'].values*tsim\n",
    "\n",
    "    # Set heading\n",
    "    psi = traj['psi'].values + 1.0*(traj['psi_dot'].values * tsim) + 1.0*(traj['psi_ddot'].values * tsim**2)\n",
    "        \n",
    "    # Set elevation\n",
    "    z = traj['z'].values * np.ones_like(tsim)\n",
    "        \n",
    "    # Wind\n",
    "    w = traj['w'].values * np.ones_like(tsim)\n",
    "    zeta = traj['zeta'].values * np.ones_like(tsim)\n",
    "    \n",
    "    # Run simulation\n",
    "    try:\n",
    "        simulator = DroneSimulator(dt=dt, mpc_horizon=mpc_horizon, r_u=r_u)\n",
    "        simulator.update_setpoint(v_x=v_x, v_y=v_y, psi=psi, z=z, w=w, zeta=zeta)\n",
    "        t_sim, x_sim, u_sim, y_sim = simulator.simulate(x0=None, mpc=True, return_full_output=True)\n",
    "        \n",
    "        # Set simulation data\n",
    "        sim_data = pd.DataFrame(y_sim)\n",
    "        sim_data.insert(loc=0, column='time', value=t_sim)\n",
    "        sim_data['time'] = sim_data['time'].values - sim_data['time'].values[0]\n",
    "           \n",
    "        # Observability\n",
    "        if observability_on:\n",
    "            SEOM = SlidingEmpiricalObservabilityMatrix(simulator, t_sim, x_sim, u_sim, w=window_size, eps=1e-4)\n",
    "            SFO = SlidingFisherObservability(SEOM.O_df_sliding, time=SEOM.t_sim, lam=1e-6, R=0.1,\n",
    "                                             states=o_states, sensors=o_sensors, time_steps=o_time_steps, w=window_size)\n",
    "            EV_aligned = SFO.get_minimum_error_variance()\n",
    "            \n",
    "            # Align & rename observability data\n",
    "            EV_aligned_new = EV_aligned.copy()\n",
    "            t_start = np.where((EV_aligned_new['time_initial'].values == 0.0))[0][0]\n",
    "            t_end = np.where(np.isnan(EV_aligned_new['time_initial'].values))[0][-1] - 1\n",
    "            EV_aligned_new = EV_aligned_new.iloc[t_start:t_end, :].reset_index(drop=True)\n",
    "            time_end = EV_aligned_new['time_initial'].values[-1]\n",
    "            EV_aligned_new.columns = ['o_' + item for item in EV_aligned_new.columns]\n",
    "            \n",
    "            # Combine simulation & observability data\n",
    "            sim_data_new = sim_data.copy()\n",
    "            t_end = np.where(sim_data_new['time'].values == time_end)[0][0] + 1\n",
    "            sim_data_new = sim_data_new.iloc[0:t_end, :].reset_index(drop=True)\n",
    "            sim_data_all = pd.concat([sim_data_new, EV_aligned_new], axis=1)\n",
    "        else:\n",
    "            sim_data_all = sim_data.copy()\n",
    "        \n",
    "        # Store data\n",
    "        traj_list.append(sim_data_all)\n",
    "        \n",
    "    except Exception as e:\n",
    "        print(f\"\\nError at iteration {n}: {e}\")\n",
    "        continue\n",
    "\n",
    "    # Plot\n",
    "    if show_plot:\n",
    "        if observability_on:\n",
    "            fig, ax = plt.subplots(1, 1, figsize=(3 * 1, 3 * 1), sharex=True, sharey=True, dpi=100)\n",
    "            ff.plot_trajectory(sim_data_all['x'].values, sim_data_all['y'].values, sim_data_all['psi'].values,\n",
    "                               color=sim_data_all['o_zeta'].values,\n",
    "                               colornorm=cnorm,\n",
    "                               colormap='inferno_r',\n",
    "                               ax=ax,\n",
    "                               size_radius=0.06,\n",
    "                               nskip=0)\n",
    "        \n",
    "            fifi.mpl_functions.adjust_spines(ax, [])\n",
    "        else:\n",
    "            simulator.plot_trajectory(start_index=0, dpi=100)\n",
    "\n",
    "print('elapsed time', time.time() - st)"
   ],
   "outputs": [
    {
     "name": "stdout",
     "output_type": "stream",
     "text": [
      "0, 1, 2, 3, 4, 5, 6, 7, 8, 9, 10, 11, 12, 13, 14, 15, 16, 17, 18, 19, 20, 21, 22, 23, 24, 25, 26, 27, 28, 29, 30, 31, 32, 33, 34, 35, 36, 37, 38, 39, 40, 41, 42, 43, 44, 45, 46, 47, 48, 49, 50, 51, 52, 53, 54, 55, 56, 57, 58, 59, 60, 61, 62, 63, 64, 65, 66, 67, 68, 69, 70, 71, 72, 73, 74, 75, 76, 77, 78, 79, 80, 81, 82, 83, 84, 85, 86, 87, 88, 89, 90, 91, 92, 93, 94, 95, 96, 97, 98, 99, 100, 101, 102, 103, 104, 105, 106, 107, 108, 109, 110, 111, 112, 113, 114, 115, 116, 117, 118, 119, 120, 121, 122, 123, 124, 125, 126, 127, 128, 129, 130, 131, 132, 133, 134, 135, 136, 137, 138, 139, 140, 141, 142, 143, 144, 145, 146, 147, 148, 149, 150, 151, 152, 153, 154, 155, 156, 157, 158, 159, 160, 161, 162, 163, 164, 165, 166, 167, 168, 169, 170, 171, 172, 173, 174, 175, 176, 177, 178, 179, 180, 181, 182, 183, 184, 185, 186, 187, 188, 189, 190, 191, 192, 193, 194, 195, 196, 197, 198, 199, 200, 201, 202, 203, 204, 205, 206, 207, 208, 209, 210, 211, 212, 213, 214, 215, 216, 217, 218, 219, 220, 221, 222, 223, 224, 225, 226, 227, 228, 229, 230, 231, 232, 233, 234, 235, 236, 237, 238, 239, 240, 241, 242, 243, 244, 245, 246, 247, 248, 249, 250, 251, 252, 253, 254, 255, 256, 257, 258, 259, 260, 261, 262, 263, 264, 265, 266, 267, 268, 269, 270, 271, 272, 273, 274, 275, 276, 277, 278, 279, 280, 281, 282, 283, 284, 285, 286, 287, 288, 289, 290, 291, 292, 293, 294, 295, 296, 297, 298, 299, 300, 301, 302, 303, 304, 305, 306, 307, 308, 309, 310, 311, 312, 313, 314, 315, 316, 317, 318, 319, 320, 321, 322, 323, 324, 325, 326, 327, 328, 329, 330, 331, 332, 333, 334, 335, 336, 337, 338, 339, 340, 341, 342, 343, 344, 345, 346, 347, 348, 349, 350, 351, 352, 353, 354, 355, 356, 357, 358, 359, 360, 361, 362, 363, 364, 365, 366, 367, 368, 369, 370, 371, 372, 373, 374, 375, 376, 377, 378, 379, 380, 381, 382, 383, 384, 385, 386, 387, 388, 389, 390, 391, 392, 393, 394, 395, 396, 397, 398, 399, 400, 401, 402, 403, 404, 405, 406, 407, 408, 409, 410, 411, 412, 413, 414, 415, 416, 417, 418, 419, 420, 421, 422, 423, 424, 425, 426, 427, 428, 429, 430, 431, 432, 433, 434, 435, 436, 437, 438, 439, 440, 441, 442, 443, 444, 445, 446, 447, 448, 449, 450, 451, 452, 453, 454, 455, 456, 457, 458, 459, 460, 461, 462, 463, 464, 465, 466, 467, 468, 469, 470, 471, 472, 473, 474, 475, 476, 477, 478, 479, 480, 481, 482, 483, 484, 485, 486, 487, 488, 489, 490, 491, 492, 493, 494, 495, 496, 497, 498, 499, 500, 501, 502, 503, 504, 505, 506, 507, 508, 509, 510, 511, 512, 513, 514, 515, 516, 517, 518, 519, 520, 521, 522, 523, 524, 525, 526, 527, 528, 529, 530, 531, 532, 533, 534, 535, 536, 537, 538, 539, 540, 541, 542, 543, 544, "
     ]
    }
   ],
   "execution_count": null
  },
  {
   "metadata": {
    "jupyter": {
     "is_executing": true
    }
   },
   "cell_type": "code",
   "source": "# simulator.plot(name='setpoint')",
   "id": "98bbf333e794d1a5",
   "outputs": [],
   "execution_count": null
  },
  {
   "cell_type": "code",
   "id": "e788662f2bdd63f9",
   "metadata": {
    "collapsed": false,
    "jupyter": {
     "outputs_hidden": false,
     "is_executing": true
    }
   },
   "source": [
    "traj_all = pd.concat(traj_list)\n",
    "traj_all"
   ],
   "outputs": [],
   "execution_count": null
  },
  {
   "cell_type": "markdown",
   "id": "944250d9df919099",
   "metadata": {},
   "source": [
    "# Save"
   ]
  },
  {
   "cell_type": "code",
   "id": "25779d9c2150d48b",
   "metadata": {
    "collapsed": false,
    "jupyter": {
     "outputs_hidden": false,
     "is_executing": true
    }
   },
   "source": [
    "save_dir = os.path.join(os.path.pardir, 'data')\n",
    "save_dir"
   ],
   "outputs": [],
   "execution_count": null
  },
  {
   "cell_type": "code",
   "id": "8441d1683fd83680",
   "metadata": {
    "collapsed": false,
    "jupyter": {
     "outputs_hidden": false,
     "is_executing": true
    }
   },
   "source": [
    "save_name = 'drone_training_data_n=' + str(n_traj) + '_O=' + str(observability_on)\n",
    "save_name"
   ],
   "outputs": [],
   "execution_count": null
  },
  {
   "cell_type": "code",
   "id": "f1bfd28d79c0cd48",
   "metadata": {
    "collapsed": false,
    "jupyter": {
     "outputs_hidden": false,
     "is_executing": true
    }
   },
   "source": [
    "traj_all.to_csv(path_or_buf=os.path.join(save_dir, save_name + '.csv'))"
   ],
   "outputs": [],
   "execution_count": null
  },
  {
   "cell_type": "code",
   "id": "40322d0ae05e11c6",
   "metadata": {
    "collapsed": false,
    "jupyter": {
     "outputs_hidden": false,
     "is_executing": true
    }
   },
   "source": [
    "traj_data_df.to_csv(path_or_buf=os.path.join(save_dir, save_name + '_labels.csv'))"
   ],
   "outputs": [],
   "execution_count": null
  },
  {
   "cell_type": "code",
   "id": "4640e7ae6ec55d0f",
   "metadata": {
    "collapsed": false,
    "jupyter": {
     "outputs_hidden": false,
     "is_executing": true
    }
   },
   "source": [],
   "outputs": [],
   "execution_count": null
  }
 ],
 "metadata": {
  "kernelspec": {
   "display_name": "Python 3 (ipykernel)",
   "language": "python",
   "name": "python3"
  },
  "language_info": {
   "codemirror_mode": {
    "name": "ipython",
    "version": 3
   },
   "file_extension": ".py",
   "mimetype": "text/x-python",
   "name": "python",
   "nbconvert_exporter": "python",
   "pygments_lexer": "ipython3",
   "version": "3.9.12"
  }
 },
 "nbformat": 4,
 "nbformat_minor": 5
}
